{
 "cells": [
  {
   "cell_type": "markdown",
   "id": "bdd84009",
   "metadata": {
    "execution": {
     "iopub.execute_input": "2022-11-03T17:12:28.604250Z",
     "iopub.status.busy": "2022-11-03T17:12:28.603265Z",
     "iopub.status.idle": "2022-11-03T17:12:37.184425Z",
     "shell.execute_reply": "2022-11-03T17:12:37.182937Z",
     "shell.execute_reply.started": "2022-11-03T17:12:28.604128Z"
    },
    "papermill": {
     "duration": 0.007043,
     "end_time": "2022-11-07T00:22:36.674888",
     "exception": false,
     "start_time": "2022-11-07T00:22:36.667845",
     "status": "completed"
    },
    "tags": []
   },
   "source": [
    "# Import and Initialize"
   ]
  },
  {
   "cell_type": "code",
   "execution_count": 1,
   "id": "9c17f1e8",
   "metadata": {
    "execution": {
     "iopub.execute_input": "2022-11-07T00:22:36.689698Z",
     "iopub.status.busy": "2022-11-07T00:22:36.688630Z",
     "iopub.status.idle": "2022-11-07T00:22:42.688123Z",
     "shell.execute_reply": "2022-11-07T00:22:42.686941Z"
    },
    "papermill": {
     "duration": 6.009708,
     "end_time": "2022-11-07T00:22:42.690978",
     "exception": false,
     "start_time": "2022-11-07T00:22:36.681270",
     "status": "completed"
    },
    "tags": []
   },
   "outputs": [],
   "source": [
    "import tensorflow as tf\n",
    "\n",
    "from kaggle_datasets import KaggleDatasets\n",
    "import matplotlib.pyplot as plt\n",
    "import numpy as np\n",
    "\n",
    "from IPython.display import display, Image\n",
    "\n",
    "%matplotlib inline "
   ]
  },
  {
   "cell_type": "code",
   "execution_count": 2,
   "id": "9185d5a7",
   "metadata": {
    "execution": {
     "iopub.execute_input": "2022-11-07T00:22:42.704740Z",
     "iopub.status.busy": "2022-11-07T00:22:42.704047Z",
     "iopub.status.idle": "2022-11-07T00:22:42.719693Z",
     "shell.execute_reply": "2022-11-07T00:22:42.718487Z"
    },
    "papermill": {
     "duration": 0.025291,
     "end_time": "2022-11-07T00:22:42.722203",
     "exception": false,
     "start_time": "2022-11-07T00:22:42.696912",
     "status": "completed"
    },
    "tags": []
   },
   "outputs": [
    {
     "name": "stdout",
     "output_type": "stream",
     "text": [
      "Number of replicas: 1\n",
      "2.6.4\n"
     ]
    }
   ],
   "source": [
    "try:\n",
    "    tpu = tf.distribute.cluster_resolver.TPUClusterResolver()\n",
    "    print('Device:', tpu.master())\n",
    "    tf.config.experimental_connect_to_cluster(tpu)\n",
    "    tf.tpu.experimental.initialize_tpu_system(tpu)\n",
    "    strategy = tf.distribute.experimental.TPUStrategy(tpu)\n",
    "except:\n",
    "    strategy = tf.distribute.get_strategy()\n",
    "print('Number of replicas:', strategy.num_replicas_in_sync)\n",
    "\n",
    "AUTOTUNE = tf.data.experimental.AUTOTUNE\n",
    "    \n",
    "print(tf.__version__)"
   ]
  },
  {
   "cell_type": "code",
   "execution_count": 3,
   "id": "b815ee6c",
   "metadata": {
    "execution": {
     "iopub.execute_input": "2022-11-07T00:22:42.735990Z",
     "iopub.status.busy": "2022-11-07T00:22:42.735186Z",
     "iopub.status.idle": "2022-11-07T00:22:43.055259Z",
     "shell.execute_reply": "2022-11-07T00:22:43.054052Z"
    },
    "papermill": {
     "duration": 0.329885,
     "end_time": "2022-11-07T00:22:43.057867",
     "exception": false,
     "start_time": "2022-11-07T00:22:42.727982",
     "status": "completed"
    },
    "tags": []
   },
   "outputs": [
    {
     "data": {
      "text/plain": [
       "'gs://kds-4e8f41e870cec9ae029b5df6b68610ba83e90d41a57a45903da782ed'"
      ]
     },
     "execution_count": 3,
     "metadata": {},
     "output_type": "execute_result"
    }
   ],
   "source": [
    "from kaggle_datasets import KaggleDatasets\n",
    "GCS_PATH = KaggleDatasets().get_gcs_path()\n",
    "GCS_PATH"
   ]
  },
  {
   "cell_type": "markdown",
   "id": "ec7f1f44",
   "metadata": {
    "papermill": {
     "duration": 0.005723,
     "end_time": "2022-11-07T00:22:43.069879",
     "exception": false,
     "start_time": "2022-11-07T00:22:43.064156",
     "status": "completed"
    },
    "tags": []
   },
   "source": [
    "# Import Data"
   ]
  },
  {
   "cell_type": "code",
   "execution_count": 4,
   "id": "fc42bd36",
   "metadata": {
    "execution": {
     "iopub.execute_input": "2022-11-07T00:22:43.083659Z",
     "iopub.status.busy": "2022-11-07T00:22:43.082888Z",
     "iopub.status.idle": "2022-11-07T00:22:43.089506Z",
     "shell.execute_reply": "2022-11-07T00:22:43.088670Z"
    },
    "papermill": {
     "duration": 0.015906,
     "end_time": "2022-11-07T00:22:43.091725",
     "exception": false,
     "start_time": "2022-11-07T00:22:43.075819",
     "status": "completed"
    },
    "tags": []
   },
   "outputs": [],
   "source": [
    "IMAGE_FEATURE_DESCRIPTION = {\n",
    "    \"image_name\": tf.io.FixedLenFeature([], tf.string),\n",
    "    \"image\": tf.io.FixedLenFeature([], tf.string),\n",
    "    \"target\": tf.io.FixedLenFeature([], tf.string)\n",
    "}\n",
    "\n",
    "def _parse_image_function(example_proto):\n",
    "  # Parse the input tf.train.Example proto using the dictionary above.\n",
    "  return tf.io.parse_single_example(example_proto, IMAGE_FEATURE_DESCRIPTION)\n",
    "\n",
    "def load_dataset(file_list):\n",
    "    raw_images = [tf.data.TFRecordDataset(x) for x in file_list]\n",
    "    return raw_image_dataset"
   ]
  },
  {
   "cell_type": "markdown",
   "id": "12523a7f",
   "metadata": {
    "papermill": {
     "duration": 0.005545,
     "end_time": "2022-11-07T00:22:43.103112",
     "exception": false,
     "start_time": "2022-11-07T00:22:43.097567",
     "status": "completed"
    },
    "tags": []
   },
   "source": [
    "## Monet Files"
   ]
  },
  {
   "cell_type": "code",
   "execution_count": 5,
   "id": "5b669ecc",
   "metadata": {
    "execution": {
     "iopub.execute_input": "2022-11-07T00:22:43.117772Z",
     "iopub.status.busy": "2022-11-07T00:22:43.117002Z",
     "iopub.status.idle": "2022-11-07T00:22:43.390469Z",
     "shell.execute_reply": "2022-11-07T00:22:43.389144Z"
    },
    "papermill": {
     "duration": 0.28362,
     "end_time": "2022-11-07T00:22:43.393079",
     "exception": false,
     "start_time": "2022-11-07T00:22:43.109459",
     "status": "completed"
    },
    "tags": []
   },
   "outputs": [
    {
     "name": "stderr",
     "output_type": "stream",
     "text": [
      "2022-11-07 00:22:43.141139: W tensorflow/core/platform/cloud/google_auth_provider.cc:184] All attempts to get a Google authentication bearer token failed, returning an empty token. Retrieving token from files failed with \"Not found: Could not locate the credentials file.\". Retrieving token from GCE failed with \"Failed precondition: Error executing an HTTP request: libcurl code 6 meaning 'Couldn't resolve host name', error details: Could not resolve host: metadata\".\n"
     ]
    },
    {
     "name": "stdout",
     "output_type": "stream",
     "text": [
      "Monet TFRecord Files: 5\n"
     ]
    }
   ],
   "source": [
    "MONET_FILENAMES = tf.io.gfile.glob(str(GCS_PATH + '/monet_tfrec/*.tfrec'))\n",
    "print('Monet TFRecord Files:', len(MONET_FILENAMES))"
   ]
  },
  {
   "cell_type": "code",
   "execution_count": 6,
   "id": "09730a4e",
   "metadata": {
    "execution": {
     "iopub.execute_input": "2022-11-07T00:22:43.408691Z",
     "iopub.status.busy": "2022-11-07T00:22:43.408268Z",
     "iopub.status.idle": "2022-11-07T00:22:43.515531Z",
     "shell.execute_reply": "2022-11-07T00:22:43.514444Z"
    },
    "papermill": {
     "duration": 0.117327,
     "end_time": "2022-11-07T00:22:43.518026",
     "exception": false,
     "start_time": "2022-11-07T00:22:43.400699",
     "status": "completed"
    },
    "tags": []
   },
   "outputs": [
    {
     "name": "stderr",
     "output_type": "stream",
     "text": [
      "2022-11-07 00:22:43.422072: I tensorflow/core/common_runtime/process_util.cc:146] Creating new thread pool with default inter op setting: 2. Tune using inter_op_parallelism_threads for best performance.\n"
     ]
    },
    {
     "data": {
      "text/plain": [
       "(tensorflow.python.data.ops.readers.TFRecordDatasetV2,\n",
       " <TFRecordDatasetV2 shapes: (), types: tf.string>)"
      ]
     },
     "execution_count": 6,
     "metadata": {},
     "output_type": "execute_result"
    }
   ],
   "source": [
    "raw_monet_images = [tf.data.TFRecordDataset(x) for x in MONET_FILENAMES]\n",
    "raw_monet_image_dataset = raw_monet_images[0]\n",
    "type(raw_monet_image_dataset), raw_monet_image_dataset"
   ]
  },
  {
   "cell_type": "code",
   "execution_count": 7,
   "id": "7358b09f",
   "metadata": {
    "execution": {
     "iopub.execute_input": "2022-11-07T00:22:43.532146Z",
     "iopub.status.busy": "2022-11-07T00:22:43.531788Z",
     "iopub.status.idle": "2022-11-07T00:22:44.232563Z",
     "shell.execute_reply": "2022-11-07T00:22:44.231748Z"
    },
    "papermill": {
     "duration": 0.710658,
     "end_time": "2022-11-07T00:22:44.234755",
     "exception": false,
     "start_time": "2022-11-07T00:22:43.524097",
     "status": "completed"
    },
    "tags": []
   },
   "outputs": [
    {
     "name": "stderr",
     "output_type": "stream",
     "text": [
      "2022-11-07 00:22:43.612157: I tensorflow/compiler/mlir/mlir_graph_optimization_pass.cc:185] None of the MLIR Optimization Passes are enabled (registered 2)\n"
     ]
    },
    {
     "data": {
      "image/jpeg": "[encoded data removed]",
      "text/plain": [
       "<IPython.core.display.Image object>"
      ]
     },
     "metadata": {},
     "output_type": "display_data"
    }
   ],
   "source": [
    "parsed_monet_image_dataset = raw_monet_image_dataset.map(_parse_image_function)\n",
    "\n",
    "monet_image = next(iter(parsed_monet_image_dataset))['image'].numpy()\n",
    "display(Image(data=monet_image))"
   ]
  },
  {
   "cell_type": "markdown",
   "id": "5d085449",
   "metadata": {
    "papermill": {
     "duration": 0.00695,
     "end_time": "2022-11-07T00:22:44.248590",
     "exception": false,
     "start_time": "2022-11-07T00:22:44.241640",
     "status": "completed"
    },
    "tags": []
   },
   "source": [
    "## Base Pictures"
   ]
  },
  {
   "cell_type": "code",
   "execution_count": 8,
   "id": "f07bc4d7",
   "metadata": {
    "execution": {
     "iopub.execute_input": "2022-11-07T00:22:44.265239Z",
     "iopub.status.busy": "2022-11-07T00:22:44.264513Z",
     "iopub.status.idle": "2022-11-07T00:22:44.338349Z",
     "shell.execute_reply": "2022-11-07T00:22:44.336729Z"
    },
    "papermill": {
     "duration": 0.085842,
     "end_time": "2022-11-07T00:22:44.341816",
     "exception": false,
     "start_time": "2022-11-07T00:22:44.255974",
     "status": "completed"
    },
    "tags": []
   },
   "outputs": [
    {
     "name": "stdout",
     "output_type": "stream",
     "text": [
      "Photo TFRecord Files: 20\n"
     ]
    }
   ],
   "source": [
    "PHOTO_FILENAMES = tf.io.gfile.glob(str(GCS_PATH + '/photo_tfrec/*.tfrec'))\n",
    "print('Photo TFRecord Files:', len(PHOTO_FILENAMES))"
   ]
  },
  {
   "cell_type": "code",
   "execution_count": 9,
   "id": "f81971ca",
   "metadata": {
    "execution": {
     "iopub.execute_input": "2022-11-07T00:22:44.358533Z",
     "iopub.status.busy": "2022-11-07T00:22:44.357543Z",
     "iopub.status.idle": "2022-11-07T00:22:45.770179Z",
     "shell.execute_reply": "2022-11-07T00:22:45.769001Z"
    },
    "papermill": {
     "duration": 1.423481,
     "end_time": "2022-11-07T00:22:45.772777",
     "exception": false,
     "start_time": "2022-11-07T00:22:44.349296",
     "status": "completed"
    },
    "tags": []
   },
   "outputs": [
    {
     "data": {
      "image/jpeg": "[encoded data removed]",
      "text/plain": [
       "<IPython.core.display.Image object>"
      ]
     },
     "metadata": {},
     "output_type": "display_data"
    }
   ],
   "source": [
    "raw_base_images = [tf.data.TFRecordDataset(x) for x in PHOTO_FILENAMES]\n",
    "raw_base_image_dataset = raw_base_images[0]\n",
    "\n",
    "parsed_base_image_dataset = raw_base_image_dataset.map(_parse_image_function)\n",
    "\n",
    "base_image = next(iter(parsed_base_image_dataset))['image'].numpy()\n",
    "display(Image(data=base_image))"
   ]
  },
  {
   "cell_type": "markdown",
   "id": "b2b10321",
   "metadata": {
    "papermill": {
     "duration": 0.007487,
     "end_time": "2022-11-07T00:22:45.787710",
     "exception": false,
     "start_time": "2022-11-07T00:22:45.780223",
     "status": "completed"
    },
    "tags": []
   },
   "source": [
    "# Image Preprocessing"
   ]
  },
  {
   "cell_type": "markdown",
   "id": "93d71715",
   "metadata": {
    "papermill": {
     "duration": 0.007129,
     "end_time": "2022-11-07T00:22:45.802414",
     "exception": false,
     "start_time": "2022-11-07T00:22:45.795285",
     "status": "completed"
    },
    "tags": []
   },
   "source": [
    "## Raw Images to Numpy Arrays"
   ]
  },
  {
   "cell_type": "code",
   "execution_count": 10,
   "id": "a4d90f30",
   "metadata": {
    "execution": {
     "iopub.execute_input": "2022-11-07T00:22:45.819422Z",
     "iopub.status.busy": "2022-11-07T00:22:45.818674Z",
     "iopub.status.idle": "2022-11-07T00:22:45.825685Z",
     "shell.execute_reply": "2022-11-07T00:22:45.824810Z"
    },
    "papermill": {
     "duration": 0.018468,
     "end_time": "2022-11-07T00:22:45.828075",
     "exception": false,
     "start_time": "2022-11-07T00:22:45.809607",
     "status": "completed"
    },
    "tags": []
   },
   "outputs": [],
   "source": [
    "IMAGE_SIZE = [256, 256]\n",
    "\n",
    "def decode_image(image):\n",
    "    image = tf.image.decode_jpeg(image, channels=3)\n",
    "    image = (tf.cast(image, tf.float32) / 127.5) - 1\n",
    "    image = tf.reshape(image, [*IMAGE_SIZE, 3])\n",
    "    return image\n",
    "\n",
    "def read_tfrecord(example):\n",
    "    example = _parse_image_function(example)\n",
    "    image = decode_image(example['image'])\n",
    "    return image"
   ]
  },
  {
   "cell_type": "code",
   "execution_count": 11,
   "id": "58bb43b4",
   "metadata": {
    "execution": {
     "iopub.execute_input": "2022-11-07T00:22:45.844961Z",
     "iopub.status.busy": "2022-11-07T00:22:45.844318Z",
     "iopub.status.idle": "2022-11-07T00:22:46.618503Z",
     "shell.execute_reply": "2022-11-07T00:22:46.617224Z"
    },
    "papermill": {
     "duration": 0.7855,
     "end_time": "2022-11-07T00:22:46.620960",
     "exception": false,
     "start_time": "2022-11-07T00:22:45.835460",
     "status": "completed"
    },
    "tags": []
   },
   "outputs": [
    {
     "name": "stdout",
     "output_type": "stream",
     "text": [
      "(256, 256, 3)\n"
     ]
    },
    {
     "data": {
      "text/plain": [
       "<matplotlib.image.AxesImage at 0x7f48c00d3290>"
      ]
     },
     "execution_count": 11,
     "metadata": {},
     "output_type": "execute_result"
    },
    {
     "data": {
      "image/png": "[encoded data removed]",
      "text/plain": [
       "<Figure size 432x288 with 1 Axes>"
      ]
     },
     "metadata": {
      "needs_background": "light"
     },
     "output_type": "display_data"
    }
   ],
   "source": [
    "n_arr = read_tfrecord(next(iter(raw_base_image_dataset)))\n",
    "print(n_arr.shape)\n",
    "\n",
    "# plt.figure(figsize = (10,10))\n",
    "plt.imshow(n_arr)"
   ]
  },
  {
   "cell_type": "markdown",
   "id": "6b69052e",
   "metadata": {
    "papermill": {
     "duration": 0.007892,
     "end_time": "2022-11-07T00:22:46.637178",
     "exception": false,
     "start_time": "2022-11-07T00:22:46.629286",
     "status": "completed"
    },
    "tags": []
   },
   "source": [
    "## Building Generator"
   ]
  },
  {
   "cell_type": "markdown",
   "id": "3679b59b",
   "metadata": {
    "papermill": {
     "duration": 0.007768,
     "end_time": "2022-11-07T00:22:46.653249",
     "exception": false,
     "start_time": "2022-11-07T00:22:46.645481",
     "status": "completed"
    },
    "tags": []
   },
   "source": [
    "- Using a [UNET archietecture](https://towardsdatascience.com/unet-line-by-line-explanation-9b191c76baf5) because, we don't just want to simply classify the image as monet-or-not but rather convert EVERY pixel to monet-style"
   ]
  },
  {
   "cell_type": "code",
   "execution_count": 12,
   "id": "4c84e7a0",
   "metadata": {
    "execution": {
     "iopub.execute_input": "2022-11-07T00:22:46.671302Z",
     "iopub.status.busy": "2022-11-07T00:22:46.670903Z",
     "iopub.status.idle": "2022-11-07T00:22:48.084874Z",
     "shell.execute_reply": "2022-11-07T00:22:48.083811Z"
    },
    "papermill": {
     "duration": 1.426158,
     "end_time": "2022-11-07T00:22:48.087494",
     "exception": false,
     "start_time": "2022-11-07T00:22:46.661336",
     "status": "completed"
    },
    "tags": []
   },
   "outputs": [],
   "source": [
    "import tensorflow_addons as tfa\n",
    "from tensorflow import keras\n",
    "from tensorflow.keras.models import Model\n",
    "from tensorflow.keras.layers import Dense, Flatten, Dropout, Conv2D, Conv2DTranspose, Input, MaxPooling2D, concatenate\n",
    "\n",
    "tf.compat.v1.logging.set_verbosity(tf.compat.v1.logging.ERROR) # stop displaying warnings that mean nothing!!!"
   ]
  },
  {
   "cell_type": "code",
   "execution_count": 13,
   "id": "e6efd26e",
   "metadata": {
    "execution": {
     "iopub.execute_input": "2022-11-07T00:22:48.106564Z",
     "iopub.status.busy": "2022-11-07T00:22:48.106122Z",
     "iopub.status.idle": "2022-11-07T00:22:48.116600Z",
     "shell.execute_reply": "2022-11-07T00:22:48.115540Z"
    },
    "papermill": {
     "duration": 0.023102,
     "end_time": "2022-11-07T00:22:48.119214",
     "exception": false,
     "start_time": "2022-11-07T00:22:48.096112",
     "status": "completed"
    },
    "tags": []
   },
   "outputs": [],
   "source": [
    "def layer(input_layer, filters, kernel_size=(4,4),activation=\"relu\",\n",
    "          stride=1, padding='same',name=None):\n",
    "    gamma_init = keras.initializers.RandomNormal(mean=0.0, stddev=0.02)\n",
    "    kernel_initializer=tf.random_normal_initializer(0., 0.02)\n",
    "    filters = min(filters, 512)\n",
    "    \n",
    "    _ = Conv2D(filters, kernel_size=kernel_size, activation=activation, padding=padding, strides=stride, kernel_initializer=kernel_initializer, use_bias=False, name=name)(input_layer)\n",
    "    _ = tfa.layers.InstanceNormalization(gamma_initializer=gamma_init)(_)\n",
    "    name = name+'.2' if name else name\n",
    "    _ = Conv2D(filters, kernel_size=kernel_size, activation=activation, padding=padding, strides=stride, kernel_initializer=kernel_initializer, use_bias=False, name=name)(_)\n",
    "    _ = tfa.layers.InstanceNormalization(gamma_initializer=gamma_init)(_)\n",
    " \n",
    "    _ = Dropout(0.25)(_)\n",
    "    \n",
    "    return _\n",
    "\n",
    "\n",
    "\n",
    "# def upsample(input_layer, filters, kernel_size=(4,4),\n",
    "#                activation=\"relu\", stride=2, padding='same'):\n",
    "#     gamma_init = keras.initializers.RandomNormal(mean=0.0, stddev=0.02)\n",
    "#     kernel_initializer=tf.random_normal_initializer(0., 0.02)\n",
    "#     filters = min(filters, 512)\n",
    "    \n",
    "#     _ = Conv2DTranspose(filters, kernel_size=kernel_size, activation=activation, padding=padding, strides=stride, kernel_initializer=kernel_initializer, use_bias=False)(input_layer)\n",
    "#     _ = tfa.layers.InstanceNormalization(gamma_initializer=gamma_init)(_)\n",
    "#     _ = Conv2DTranspose(filters, kernel_size=kernel_size, activation=activation, padding=padding, strides=stride, kernel_initializer=kernel_initializer, use_bias=False)(_)\n",
    "#     _ = tfa.layers.InstanceNormalization(gamma_initializer=gamma_init)(_)\n",
    "#     _ = Dropout(0.25)(_)\n",
    "    \n",
    "#     return _"
   ]
  },
  {
   "cell_type": "code",
   "execution_count": 14,
   "id": "0d093ef7",
   "metadata": {
    "execution": {
     "iopub.execute_input": "2022-11-07T00:22:48.138318Z",
     "iopub.status.busy": "2022-11-07T00:22:48.137200Z",
     "iopub.status.idle": "2022-11-07T00:22:50.280140Z",
     "shell.execute_reply": "2022-11-07T00:22:50.278885Z"
    },
    "papermill": {
     "duration": 2.15613,
     "end_time": "2022-11-07T00:22:50.283857",
     "exception": false,
     "start_time": "2022-11-07T00:22:48.127727",
     "status": "completed"
    },
    "tags": []
   },
   "outputs": [
    {
     "name": "stdout",
     "output_type": "stream",
     "text": [
      "Model: \"Generator_UNET\"\n",
      "__________________________________________________________________________________________________\n",
      "Layer (type)                    Output Shape         Param #     Connected to                     \n",
      "==================================================================================================\n",
      "input_1 (InputLayer)            [(None, 256, 256, 3) 0                                            \n",
      "__________________________________________________________________________________________________\n",
      "down0 (Conv2D)                  (None, 256, 256, 64) 3072        input_1[0][0]                    \n",
      "__________________________________________________________________________________________________\n",
      "instance_normalization (Instanc (None, 256, 256, 64) 128         down0[0][0]                      \n",
      "__________________________________________________________________________________________________\n",
      "down0.2 (Conv2D)                (None, 256, 256, 64) 65536       instance_normalization[0][0]     \n",
      "__________________________________________________________________________________________________\n",
      "instance_normalization_1 (Insta (None, 256, 256, 64) 128         down0.2[0][0]                    \n",
      "__________________________________________________________________________________________________\n",
      "dropout (Dropout)               (None, 256, 256, 64) 0           instance_normalization_1[0][0]   \n",
      "__________________________________________________________________________________________________\n",
      "max_pooling2d (MaxPooling2D)    (None, 128, 128, 64) 0           dropout[0][0]                    \n",
      "__________________________________________________________________________________________________\n",
      "down1 (Conv2D)                  (None, 128, 128, 128 131072      max_pooling2d[0][0]              \n",
      "__________________________________________________________________________________________________\n",
      "instance_normalization_2 (Insta (None, 128, 128, 128 256         down1[0][0]                      \n",
      "__________________________________________________________________________________________________\n",
      "down1.2 (Conv2D)                (None, 128, 128, 128 262144      instance_normalization_2[0][0]   \n",
      "__________________________________________________________________________________________________\n",
      "instance_normalization_3 (Insta (None, 128, 128, 128 256         down1.2[0][0]                    \n",
      "__________________________________________________________________________________________________\n",
      "dropout_1 (Dropout)             (None, 128, 128, 128 0           instance_normalization_3[0][0]   \n",
      "__________________________________________________________________________________________________\n",
      "max_pooling2d_1 (MaxPooling2D)  (None, 64, 64, 128)  0           dropout_1[0][0]                  \n",
      "__________________________________________________________________________________________________\n",
      "down2 (Conv2D)                  (None, 64, 64, 256)  524288      max_pooling2d_1[0][0]            \n",
      "__________________________________________________________________________________________________\n",
      "instance_normalization_4 (Insta (None, 64, 64, 256)  512         down2[0][0]                      \n",
      "__________________________________________________________________________________________________\n",
      "down2.2 (Conv2D)                (None, 64, 64, 256)  1048576     instance_normalization_4[0][0]   \n",
      "__________________________________________________________________________________________________\n",
      "instance_normalization_5 (Insta (None, 64, 64, 256)  512         down2.2[0][0]                    \n",
      "__________________________________________________________________________________________________\n",
      "dropout_2 (Dropout)             (None, 64, 64, 256)  0           instance_normalization_5[0][0]   \n",
      "__________________________________________________________________________________________________\n",
      "max_pooling2d_2 (MaxPooling2D)  (None, 32, 32, 256)  0           dropout_2[0][0]                  \n",
      "__________________________________________________________________________________________________\n",
      "down3 (Conv2D)                  (None, 32, 32, 512)  2097152     max_pooling2d_2[0][0]            \n",
      "__________________________________________________________________________________________________\n",
      "instance_normalization_6 (Insta (None, 32, 32, 512)  1024        down3[0][0]                      \n",
      "__________________________________________________________________________________________________\n",
      "down3.2 (Conv2D)                (None, 32, 32, 512)  4194304     instance_normalization_6[0][0]   \n",
      "__________________________________________________________________________________________________\n",
      "instance_normalization_7 (Insta (None, 32, 32, 512)  1024        down3.2[0][0]                    \n",
      "__________________________________________________________________________________________________\n",
      "dropout_3 (Dropout)             (None, 32, 32, 512)  0           instance_normalization_7[0][0]   \n",
      "__________________________________________________________________________________________________\n",
      "max_pooling2d_3 (MaxPooling2D)  (None, 16, 16, 512)  0           dropout_3[0][0]                  \n",
      "__________________________________________________________________________________________________\n",
      "down4 (Conv2D)                  (None, 16, 16, 512)  4194304     max_pooling2d_3[0][0]            \n",
      "__________________________________________________________________________________________________\n",
      "instance_normalization_8 (Insta (None, 16, 16, 512)  1024        down4[0][0]                      \n",
      "__________________________________________________________________________________________________\n",
      "down4.2 (Conv2D)                (None, 16, 16, 512)  4194304     instance_normalization_8[0][0]   \n",
      "__________________________________________________________________________________________________\n",
      "instance_normalization_9 (Insta (None, 16, 16, 512)  1024        down4.2[0][0]                    \n",
      "__________________________________________________________________________________________________\n",
      "dropout_4 (Dropout)             (None, 16, 16, 512)  0           instance_normalization_9[0][0]   \n",
      "__________________________________________________________________________________________________\n",
      "max_pooling2d_4 (MaxPooling2D)  (None, 8, 8, 512)    0           dropout_4[0][0]                  \n",
      "__________________________________________________________________________________________________\n",
      "mid (Conv2D)                    (None, 8, 8, 1024)   8388608     max_pooling2d_4[0][0]            \n",
      "__________________________________________________________________________________________________\n",
      "conv2d_transpose (Conv2DTranspo (None, 16, 16, 512)  8388608     mid[0][0]                        \n",
      "__________________________________________________________________________________________________\n",
      "concatenate (Concatenate)       (None, 16, 16, 1024) 0           conv2d_transpose[0][0]           \n",
      "                                                                 dropout_4[0][0]                  \n",
      "__________________________________________________________________________________________________\n",
      "dropout_5 (Dropout)             (None, 16, 16, 1024) 0           concatenate[0][0]                \n",
      "__________________________________________________________________________________________________\n",
      "up4 (Conv2D)                    (None, 16, 16, 512)  8388608     dropout_5[0][0]                  \n",
      "__________________________________________________________________________________________________\n",
      "instance_normalization_10 (Inst (None, 16, 16, 512)  1024        up4[0][0]                        \n",
      "__________________________________________________________________________________________________\n",
      "up4.2 (Conv2D)                  (None, 16, 16, 512)  4194304     instance_normalization_10[0][0]  \n",
      "__________________________________________________________________________________________________\n",
      "instance_normalization_11 (Inst (None, 16, 16, 512)  1024        up4.2[0][0]                      \n",
      "__________________________________________________________________________________________________\n",
      "dropout_6 (Dropout)             (None, 16, 16, 512)  0           instance_normalization_11[0][0]  \n",
      "__________________________________________________________________________________________________\n",
      "conv2d_transpose_1 (Conv2DTrans (None, 32, 32, 512)  4194304     dropout_6[0][0]                  \n",
      "__________________________________________________________________________________________________\n",
      "dropout_7 (Dropout)             (None, 32, 32, 512)  0           conv2d_transpose_1[0][0]         \n",
      "__________________________________________________________________________________________________\n",
      "concatenate_1 (Concatenate)     (None, 32, 32, 1024) 0           dropout_7[0][0]                  \n",
      "                                                                 dropout_3[0][0]                  \n",
      "__________________________________________________________________________________________________\n",
      "up3 (Conv2D)                    (None, 32, 32, 512)  8388608     concatenate_1[0][0]              \n",
      "__________________________________________________________________________________________________\n",
      "instance_normalization_12 (Inst (None, 32, 32, 512)  1024        up3[0][0]                        \n",
      "__________________________________________________________________________________________________\n",
      "up3.2 (Conv2D)                  (None, 32, 32, 512)  4194304     instance_normalization_12[0][0]  \n",
      "__________________________________________________________________________________________________\n",
      "instance_normalization_13 (Inst (None, 32, 32, 512)  1024        up3.2[0][0]                      \n",
      "__________________________________________________________________________________________________\n",
      "dropout_8 (Dropout)             (None, 32, 32, 512)  0           instance_normalization_13[0][0]  \n",
      "__________________________________________________________________________________________________\n",
      "conv2d_transpose_2 (Conv2DTrans (None, 64, 64, 256)  2097152     dropout_8[0][0]                  \n",
      "__________________________________________________________________________________________________\n",
      "dropout_9 (Dropout)             (None, 64, 64, 256)  0           conv2d_transpose_2[0][0]         \n",
      "__________________________________________________________________________________________________\n",
      "concatenate_2 (Concatenate)     (None, 64, 64, 512)  0           dropout_9[0][0]                  \n",
      "                                                                 dropout_2[0][0]                  \n",
      "__________________________________________________________________________________________________\n",
      "up2 (Conv2D)                    (None, 64, 64, 256)  2097152     concatenate_2[0][0]              \n",
      "__________________________________________________________________________________________________\n",
      "instance_normalization_14 (Inst (None, 64, 64, 256)  512         up2[0][0]                        \n",
      "__________________________________________________________________________________________________\n",
      "up2.2 (Conv2D)                  (None, 64, 64, 256)  1048576     instance_normalization_14[0][0]  \n",
      "__________________________________________________________________________________________________\n",
      "instance_normalization_15 (Inst (None, 64, 64, 256)  512         up2.2[0][0]                      \n",
      "__________________________________________________________________________________________________\n",
      "dropout_10 (Dropout)            (None, 64, 64, 256)  0           instance_normalization_15[0][0]  \n",
      "__________________________________________________________________________________________________\n",
      "conv2d_transpose_3 (Conv2DTrans (None, 128, 128, 128 524288      dropout_10[0][0]                 \n",
      "__________________________________________________________________________________________________\n",
      "dropout_11 (Dropout)            (None, 128, 128, 128 0           conv2d_transpose_3[0][0]         \n",
      "__________________________________________________________________________________________________\n",
      "concatenate_3 (Concatenate)     (None, 128, 128, 256 0           dropout_11[0][0]                 \n",
      "                                                                 dropout_1[0][0]                  \n",
      "__________________________________________________________________________________________________\n",
      "up1 (Conv2D)                    (None, 128, 128, 128 524288      concatenate_3[0][0]              \n",
      "__________________________________________________________________________________________________\n",
      "instance_normalization_16 (Inst (None, 128, 128, 128 256         up1[0][0]                        \n",
      "__________________________________________________________________________________________________\n",
      "up1.2 (Conv2D)                  (None, 128, 128, 128 262144      instance_normalization_16[0][0]  \n",
      "__________________________________________________________________________________________________\n",
      "instance_normalization_17 (Inst (None, 128, 128, 128 256         up1.2[0][0]                      \n",
      "__________________________________________________________________________________________________\n",
      "dropout_12 (Dropout)            (None, 128, 128, 128 0           instance_normalization_17[0][0]  \n",
      "__________________________________________________________________________________________________\n",
      "conv2d_transpose_4 (Conv2DTrans (None, 256, 256, 64) 131072      dropout_12[0][0]                 \n",
      "__________________________________________________________________________________________________\n",
      "dropout_13 (Dropout)            (None, 256, 256, 64) 0           conv2d_transpose_4[0][0]         \n",
      "__________________________________________________________________________________________________\n",
      "concatenate_4 (Concatenate)     (None, 256, 256, 128 0           dropout_13[0][0]                 \n",
      "                                                                 dropout[0][0]                    \n",
      "__________________________________________________________________________________________________\n",
      "up0 (Conv2D)                    (None, 256, 256, 64) 131072      concatenate_4[0][0]              \n",
      "__________________________________________________________________________________________________\n",
      "instance_normalization_18 (Inst (None, 256, 256, 64) 128         up0[0][0]                        \n",
      "__________________________________________________________________________________________________\n",
      "up0.2 (Conv2D)                  (None, 256, 256, 64) 65536       instance_normalization_18[0][0]  \n",
      "__________________________________________________________________________________________________\n",
      "instance_normalization_19 (Inst (None, 256, 256, 64) 128         up0.2[0][0]                      \n",
      "__________________________________________________________________________________________________\n",
      "dropout_14 (Dropout)            (None, 256, 256, 64) 0           instance_normalization_19[0][0]  \n",
      "__________________________________________________________________________________________________\n",
      "conv2d (Conv2D)                 (None, 256, 256, 1)  65          dropout_14[0][0]                 \n",
      "==================================================================================================\n",
      "Total params: 69,745,217\n",
      "Trainable params: 69,745,217\n",
      "Non-trainable params: 0\n",
      "__________________________________________________________________________________________________\n"
     ]
    }
   ],
   "source": [
    "def create_model(img_shape, name):\n",
    "    gamma_init = keras.initializers.RandomNormal(mean=0.0, stddev=0.02)\n",
    "    kernel_initializer=tf.random_normal_initializer(0., 0.02)\n",
    "    \n",
    "    # Downsample\n",
    "    inp = Input(shape=img_shape)\n",
    "    down0 = layer(inp,64,name='down0')\n",
    "    _ = MaxPooling2D((2,2))(down0)\n",
    "    down1 = layer(_,128,name='down1')\n",
    "    _ = MaxPooling2D((2,2))(down1)\n",
    "    down2 = layer(_,256,name='down2')\n",
    "    _ = MaxPooling2D((2,2))(down2)\n",
    "    down3 = layer(_,512,name='down3')\n",
    "    _ = MaxPooling2D((2,2))(down3)\n",
    "    down4 = layer(_,512,name='down4')\n",
    "    _ = MaxPooling2D((2,2))(down4)\n",
    "    \n",
    "    mid = Conv2D(1024, kernel_size=(4,4), activation=\"relu\", padding=\"same\", strides=1, kernel_initializer=kernel_initializer, use_bias=False, name='mid')(_)\n",
    "    \n",
    "    # Upsample\n",
    "    up4 = Conv2DTranspose(512, kernel_size=(4,4), activation=\"relu\", padding=\"same\", strides=2, kernel_initializer=kernel_initializer, use_bias=False)(mid) \n",
    "    up4 = concatenate([up4, down4])\n",
    "    up4 = Dropout(0.5)(up4)\n",
    "    up4 = layer(up4,512,name='up4')\n",
    "    \n",
    "    up3 = Conv2DTranspose(512, kernel_size=(4,4), activation=\"relu\", padding=\"same\", strides=2, kernel_initializer=kernel_initializer, use_bias=False)(up4) \n",
    "    up3 = Dropout(0.5)(up3)\n",
    "    up3 = concatenate([up3, down3])\n",
    "    up3 = layer(up3,512,name='up3')\n",
    "    \n",
    "    up2 = Conv2DTranspose(256, kernel_size=(4,4), activation=\"relu\", padding=\"same\", strides=2, kernel_initializer=kernel_initializer, use_bias=False)(up3) \n",
    "    up2 = Dropout(0.5)(up2)\n",
    "    up2 = concatenate([up2, down2])\n",
    "    up2 = layer(up2,256,name='up2')\n",
    "    \n",
    "    up1 = Conv2DTranspose(128, kernel_size=(4,4), activation=\"relu\", padding=\"same\", strides=2, kernel_initializer=kernel_initializer, use_bias=False)(up2) \n",
    "    up1 = Dropout(0.5)(up1)\n",
    "    up1 = concatenate([up1, down1])\n",
    "    up1 = layer(up1,128,name='up1')\n",
    "    \n",
    "    up0 = Conv2DTranspose(64, kernel_size=(4,4), activation=\"relu\", padding=\"same\", strides=2, kernel_initializer=kernel_initializer, use_bias=False)(up1) \n",
    "    up0 = Dropout(0.5)(up0)\n",
    "    up0 = concatenate([up0, down0])\n",
    "    up0 = layer(up0,64,name='up0')\n",
    "    \n",
    "    output_layer = Conv2D(1, (1,1), padding=\"same\", activation=\"sigmoid\")(up0)\n",
    "    \n",
    "    \n",
    "    model = Model(inp,output_layer,name=name) \n",
    "    \n",
    "#     model.compile(optimizer=tf.keras.optimizers.Adam(learning_rate=1e-4),loss='mean_squared_error')\n",
    "    \n",
    "    return model\n",
    "\n",
    "generator_mod = create_model(n_arr.shape, name = 'Generator_UNET')\n",
    "\n",
    "generator_mod.summary()"
   ]
  },
  {
   "cell_type": "code",
   "execution_count": null,
   "id": "69a8790a",
   "metadata": {
    "papermill": {
     "duration": 0.008612,
     "end_time": "2022-11-07T00:22:50.301665",
     "exception": false,
     "start_time": "2022-11-07T00:22:50.293053",
     "status": "completed"
    },
    "tags": []
   },
   "outputs": [],
   "source": []
  },
  {
   "cell_type": "code",
   "execution_count": null,
   "id": "44820086",
   "metadata": {
    "papermill": {
     "duration": 0.008514,
     "end_time": "2022-11-07T00:22:50.319005",
     "exception": false,
     "start_time": "2022-11-07T00:22:50.310491",
     "status": "completed"
    },
    "tags": []
   },
   "outputs": [],
   "source": []
  }
 ],
 "metadata": {
  "kernelspec": {
   "display_name": "Python 3",
   "language": "python",
   "name": "python3"
  },
  "language_info": {
   "codemirror_mode": {
    "name": "ipython",
    "version": 3
   },
   "file_extension": ".py",
   "mimetype": "text/x-python",
   "name": "python",
   "nbconvert_exporter": "python",
   "pygments_lexer": "ipython3",
   "version": "3.7.12"
  },
  "papermill": {
   "default_parameters": {},
   "duration": 25.259653,
   "end_time": "2022-11-07T00:22:53.120737",
   "environment_variables": {},
   "exception": null,
   "input_path": "__notebook__.ipynb",
   "output_path": "__notebook__.ipynb",
   "parameters": {},
   "start_time": "2022-11-07T00:22:27.861084",
   "version": "2.3.4"
  }
 },
 "nbformat": 4,
 "nbformat_minor": 5
}
