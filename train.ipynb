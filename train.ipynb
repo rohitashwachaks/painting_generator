{
 "cells": [
  {
   "cell_type": "code",
   "execution_count": 1,
   "id": "c018ec73",
   "metadata": {
    "execution": {
     "iopub.execute_input": "2022-11-02T21:44:09.007247Z",
     "iopub.status.busy": "2022-11-02T21:44:09.006217Z",
     "iopub.status.idle": "2022-11-02T21:44:16.129351Z",
     "shell.execute_reply": "2022-11-02T21:44:16.127354Z"
    },
    "papermill": {
     "duration": 7.133596,
     "end_time": "2022-11-02T21:44:16.133830",
     "exception": false,
     "start_time": "2022-11-02T21:44:09.000234",
     "status": "completed"
    },
    "tags": []
   },
   "outputs": [],
   "source": [
    "import tensorflow as tf"
   ]
  },
  {
   "cell_type": "code",
   "execution_count": null,
   "id": "232d356c",
   "metadata": {
    "papermill": {
     "duration": 0.001496,
     "end_time": "2022-11-02T21:44:16.137599",
     "exception": false,
     "start_time": "2022-11-02T21:44:16.136103",
     "status": "completed"
    },
    "tags": []
   },
   "outputs": [],
   "source": []
  }
 ],
 "metadata": {
  "kernelspec": {
   "display_name": "Python 3",
   "language": "python",
   "name": "python3"
  },
  "language_info": {
   "codemirror_mode": {
    "name": "ipython",
    "version": 3
   },
   "file_extension": ".py",
   "mimetype": "text/x-python",
   "name": "python",
   "nbconvert_exporter": "python",
   "pygments_lexer": "ipython3",
   "version": "3.7.12"
  },
  "papermill": {
   "default_parameters": {},
   "duration": 20.274895,
   "end_time": "2022-11-02T21:44:19.599391",
   "environment_variables": {},
   "exception": null,
   "input_path": "__notebook__.ipynb",
   "output_path": "__notebook__.ipynb",
   "parameters": {},
   "start_time": "2022-11-02T21:43:59.324496",
   "version": "2.3.4"
  }
 },
 "nbformat": 4,
 "nbformat_minor": 5
}
